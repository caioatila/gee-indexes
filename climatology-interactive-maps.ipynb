{
 "cells": [
  {
   "cell_type": "markdown",
   "metadata": {},
   "source": [
    "# Interactive NDVI"
   ]
  },
  {
   "cell_type": "code",
   "execution_count": 1,
   "metadata": {},
   "outputs": [],
   "source": [
    "import datetime\n",
    "import geemap\n",
    "import ee\n",
    "from astral import LocationInfo\n",
    "from astral.sun import sun\n",
    "\n",
    "ee.Initialize()\n",
    "bands = ['CMI_C01', 'CMI_C02', 'CMI_C03']\n",
    "\n",
    "\n",
    "def set_coordinates(left, bottom, right, top):\n",
    "    return ee.Geometry.BBox(left, bottom, right, top)\n",
    "\n",
    "\n",
    "def applyScaleandOffset(image):\n",
    "    \n",
    "    band_list = image.select('CMI_C..').bandNames()\n",
    "\n",
    "    scales = (band_list.map(lambda name: ee.String(name).cat('_scale'))).map(lambda band: image.getNumber(band))\n",
    "    offsets = (band_list.map(lambda name: ee.String(name).cat('_offset'))).map(lambda band: image.getNumber(band))\n",
    "\n",
    "    scaled = image.select('CMI_C..').multiply(ee.Image.constant(scales)).add(ee.Image.constant(offsets))\n",
    "\n",
    "    return image.addBands(srcImg = scaled, overwrite = True)\n",
    "\n",
    "\n",
    "def get_daytime(lat, lon, day_delta = 1):\n",
    "\n",
    "    loc = LocationInfo(latitude=lat, longitude=lon)\n",
    "    s = sun(loc.observer, date=datetime.date.today() - datetime.timedelta(days= day_delta))\n",
    "\n",
    "    if s['sunset'] <= s['sunrise']:\n",
    "        s['sunset'] = s['sunset'] + datetime.timedelta(days=1)\n",
    "    \n",
    "    return (s['sunrise'].strftime(format=\"%Y-%m-%dT%H:%M:00\"), s['sunset'].strftime(format=\"%Y-%m-%dT%H:%M:00\"))\n"
   ]
  },
  {
   "cell_type": "code",
   "execution_count": 2,
   "metadata": {},
   "outputs": [
    {
     "data": {
      "text/html": [
       "\n",
       "            <style>\n",
       "                .geemap-dark {\n",
       "                    --jp-widgets-color: white;\n",
       "                    --jp-widgets-label-color: white;\n",
       "                    --jp-ui-font-color1: white;\n",
       "                    --jp-layout-color2: #454545;\n",
       "                    background-color: #383838;\n",
       "                }\n",
       "                    \n",
       "                .geemap-dark .jupyter-button {\n",
       "                    --jp-layout-color3: #383838;\n",
       "                }\n",
       "                \n",
       "                .geemap-colab {\n",
       "                    background-color: var(--colab-primary-surface-color, white);\n",
       "                }\n",
       "                    \n",
       "                .geemap-colab .jupyter-button {\n",
       "                    --jp-layout-color3: var(--colab-primary-surface-color, white);\n",
       "                }\n",
       "            </style>\n",
       "            "
      ],
      "text/plain": [
       "<IPython.core.display.HTML object>"
      ]
     },
     "metadata": {},
     "output_type": "display_data"
    }
   ],
   "source": [
    "def calculate_ndvi(image):\n",
    "    ndvi = image.normalizedDifference([\"CMI_C03\", \"CMI_C02\"]).rename('NDVI')\n",
    "    return image.addBands(ndvi)\n",
    "\n",
    "def calculate_ndwi(image):\n",
    "\n",
    "    nir = image.select(\"CMI_C03\")\n",
    "    red = image.select(\"CMI_C02\")\n",
    "    blue = image.select(\"CMI_C01\")\n",
    "\n",
    "    green = red.multiply(0.45).add(nir.multiply(0.1)).add(blue.multiply(0.45))\n",
    "    ndwi = green.subtract(nir).divide(green.add(nir)).rename('NDWI')\n",
    "\n",
    "    return image.addBands(ndwi)"
   ]
  },
  {
   "cell_type": "code",
   "execution_count": 9,
   "metadata": {},
   "outputs": [
    {
     "data": {
      "text/html": [
       "\n",
       "            <style>\n",
       "                .geemap-dark {\n",
       "                    --jp-widgets-color: white;\n",
       "                    --jp-widgets-label-color: white;\n",
       "                    --jp-ui-font-color1: white;\n",
       "                    --jp-layout-color2: #454545;\n",
       "                    background-color: #383838;\n",
       "                }\n",
       "                    \n",
       "                .geemap-dark .jupyter-button {\n",
       "                    --jp-layout-color3: #383838;\n",
       "                }\n",
       "                \n",
       "                .geemap-colab {\n",
       "                    background-color: var(--colab-primary-surface-color, white);\n",
       "                }\n",
       "                    \n",
       "                .geemap-colab .jupyter-button {\n",
       "                    --jp-layout-color3: var(--colab-primary-surface-color, white);\n",
       "                }\n",
       "            </style>\n",
       "            "
      ],
      "text/plain": [
       "<IPython.core.display.HTML object>"
      ]
     },
     "metadata": {},
     "output_type": "display_data"
    }
   ],
   "source": [
    "def call_split_map(coords, collection_name = 'NOAA/GOES/16/MCMIPC', bands=bands):\n",
    "\n",
    "    goes_collection = ee.ImageCollection(collection_name)\n",
    "\n",
    "    # Set the location of the ROI. USER INPUT REQUIRED.\n",
    "    roi = set_coordinates(coords['left'], coords['bottom'], coords['right'], coords['top'])\n",
    "\n",
    "    \n",
    "    # Get the image collection for the given time period and location.\n",
    "    date_start, date_end = get_daytime(coords['top'], coords['left']) #UPPER LEFT CORNER (smallest day duration)\n",
    "    #old_start, old_end = get_daytime(coords['top'], coords['left'], 365)\n",
    "    \n",
    "\n",
    "    period = ee.DateRange(date_start, date_end)\n",
    "    #last_year = ee.DateRange(old_start, old_end)\n",
    "    month_filter = ee.Filter.calendarRange(int(date_start[5:7]), 'month')\n",
    "\n",
    "    # Calculate the indexes\n",
    "    indexes = goes_collection.filterDate(period).select(bands).map(applyScaleandOffset).map(calculate_ndvi).map(calculate_ndwi).reduce(ee.Reducer.median()).clip(roi)\n",
    "    #old_indexes = goes_collection.filterDate(last_year).select(bands).map(applyScaleandOffset).map(calculate_ndvi).map(calculate_ndwi).reduce(ee.Reducer.median()).clip(roi)\n",
    "    history_indexes = goes_collection.filter(month_filter).select(bands).map(applyScaleandOffset).map(calculate_ndvi).map(calculate_ndwi).reduce(ee.Reducer.median()).clip(roi)\n",
    "\n",
    "    # Split the map\n",
    "    # Add the image to the map.\n",
    "    ndviParams = {'bands': ['NDVI_median'],\n",
    "                    'min': -1,\n",
    "                    'max': 1,\n",
    "                    'palette': ['blue', 'white', 'green']}\n",
    "\n",
    "\n",
    "\n",
    "    left_layer = geemap.ee_tile_layer(history_indexes, ndviParams, 'Month NDVI')\n",
    "    right_layer = geemap.ee_tile_layer(indexes, ndviParams, 'Current Year NDVI')\n",
    "\n",
    "\n",
    "    colors = ndviParams['palette']\n",
    "    vmin = ndviParams['min']\n",
    "    vmax = ndviParams['max']\n",
    "\n",
    "\n",
    "    m = geemap.Map()\n",
    "    m.split_map(left_layer, right_layer)\n",
    "    m.setCenter((coords['left'] + coords['right'])//2, (coords['top'] + coords['bottom'])//2, 8)\n",
    "    m.add_colorbar_branca(colors=colors, vmin=vmin, vmax=vmax, layer_name=\"NDVI\")\n",
    "\n",
    "    return m"
   ]
  },
  {
   "cell_type": "code",
   "execution_count": 12,
   "metadata": {},
   "outputs": [
    {
     "data": {
      "text/html": [
       "\n",
       "            <style>\n",
       "                .geemap-dark {\n",
       "                    --jp-widgets-color: white;\n",
       "                    --jp-widgets-label-color: white;\n",
       "                    --jp-ui-font-color1: white;\n",
       "                    --jp-layout-color2: #454545;\n",
       "                    background-color: #383838;\n",
       "                }\n",
       "                    \n",
       "                .geemap-dark .jupyter-button {\n",
       "                    --jp-layout-color3: #383838;\n",
       "                }\n",
       "                \n",
       "                .geemap-colab {\n",
       "                    background-color: var(--colab-primary-surface-color, white);\n",
       "                }\n",
       "                    \n",
       "                .geemap-colab .jupyter-button {\n",
       "                    --jp-layout-color3: var(--colab-primary-surface-color, white);\n",
       "                }\n",
       "            </style>\n",
       "            "
      ],
      "text/plain": [
       "<IPython.core.display.HTML object>"
      ]
     },
     "metadata": {},
     "output_type": "display_data"
    }
   ],
   "source": [
    "a, b = get_daytime(Region['top'], Region['left'])"
   ]
  },
  {
   "cell_type": "code",
   "execution_count": 14,
   "metadata": {},
   "outputs": [
    {
     "data": {
      "text/html": [
       "\n",
       "            <style>\n",
       "                .geemap-dark {\n",
       "                    --jp-widgets-color: white;\n",
       "                    --jp-widgets-label-color: white;\n",
       "                    --jp-ui-font-color1: white;\n",
       "                    --jp-layout-color2: #454545;\n",
       "                    background-color: #383838;\n",
       "                }\n",
       "                    \n",
       "                .geemap-dark .jupyter-button {\n",
       "                    --jp-layout-color3: #383838;\n",
       "                }\n",
       "                \n",
       "                .geemap-colab {\n",
       "                    background-color: var(--colab-primary-surface-color, white);\n",
       "                }\n",
       "                    \n",
       "                .geemap-colab .jupyter-button {\n",
       "                    --jp-layout-color3: var(--colab-primary-surface-color, white);\n",
       "                }\n",
       "            </style>\n",
       "            "
      ],
      "text/plain": [
       "<IPython.core.display.HTML object>"
      ]
     },
     "metadata": {},
     "output_type": "display_data"
    },
    {
     "data": {
      "text/plain": [
       "'10'"
      ]
     },
     "execution_count": 14,
     "metadata": {},
     "output_type": "execute_result"
    }
   ],
   "source": []
  },
  {
   "cell_type": "code",
   "execution_count": 10,
   "metadata": {},
   "outputs": [
    {
     "data": {
      "text/html": [
       "\n",
       "            <style>\n",
       "                .geemap-dark {\n",
       "                    --jp-widgets-color: white;\n",
       "                    --jp-widgets-label-color: white;\n",
       "                    --jp-ui-font-color1: white;\n",
       "                    --jp-layout-color2: #454545;\n",
       "                    background-color: #383838;\n",
       "                }\n",
       "                    \n",
       "                .geemap-dark .jupyter-button {\n",
       "                    --jp-layout-color3: #383838;\n",
       "                }\n",
       "                \n",
       "                .geemap-colab {\n",
       "                    background-color: var(--colab-primary-surface-color, white);\n",
       "                }\n",
       "                    \n",
       "                .geemap-colab .jupyter-button {\n",
       "                    --jp-layout-color3: var(--colab-primary-surface-color, white);\n",
       "                }\n",
       "            </style>\n",
       "            "
      ],
      "text/plain": [
       "<IPython.core.display.HTML object>"
      ]
     },
     "metadata": {},
     "output_type": "display_data"
    },
    {
     "ename": "TypeError",
     "evalue": "ComputedObject.getInfo() takes 1 positional argument but 2 were given",
     "output_type": "error",
     "traceback": [
      "\u001b[1;31m---------------------------------------------------------------------------\u001b[0m",
      "\u001b[1;31mTypeError\u001b[0m                                 Traceback (most recent call last)",
      "\u001b[1;32mc:\\Users\\caioa\\DataJam\\gee-indexes\\climatology-interactive-maps.ipynb Cell 5\u001b[0m line \u001b[0;36m9\n\u001b[0;32m      <a href='vscode-notebook-cell:/c%3A/Users/caioa/DataJam/gee-indexes/climatology-interactive-maps.ipynb#W4sZmlsZQ%3D%3D?line=0'>1</a>\u001b[0m Region \u001b[39m=\u001b[39m {\n\u001b[0;32m      <a href='vscode-notebook-cell:/c%3A/Users/caioa/DataJam/gee-indexes/climatology-interactive-maps.ipynb#W4sZmlsZQ%3D%3D?line=1'>2</a>\u001b[0m     \u001b[39m'\u001b[39m\u001b[39mleft\u001b[39m\u001b[39m'\u001b[39m : \u001b[39m-\u001b[39m\u001b[39m102.84\u001b[39m,\n\u001b[0;32m      <a href='vscode-notebook-cell:/c%3A/Users/caioa/DataJam/gee-indexes/climatology-interactive-maps.ipynb#W4sZmlsZQ%3D%3D?line=2'>3</a>\u001b[0m     \u001b[39m'\u001b[39m\u001b[39mbottom\u001b[39m\u001b[39m'\u001b[39m : \u001b[39m37.25\u001b[39m,\n\u001b[0;32m      <a href='vscode-notebook-cell:/c%3A/Users/caioa/DataJam/gee-indexes/climatology-interactive-maps.ipynb#W4sZmlsZQ%3D%3D?line=3'>4</a>\u001b[0m     \u001b[39m'\u001b[39m\u001b[39mright\u001b[39m\u001b[39m'\u001b[39m : \u001b[39m-\u001b[39m\u001b[39m96.91\u001b[39m,\n\u001b[0;32m      <a href='vscode-notebook-cell:/c%3A/Users/caioa/DataJam/gee-indexes/climatology-interactive-maps.ipynb#W4sZmlsZQ%3D%3D?line=4'>5</a>\u001b[0m     \u001b[39m'\u001b[39m\u001b[39mtop\u001b[39m\u001b[39m'\u001b[39m : \u001b[39m42.27\u001b[39m\n\u001b[0;32m      <a href='vscode-notebook-cell:/c%3A/Users/caioa/DataJam/gee-indexes/climatology-interactive-maps.ipynb#W4sZmlsZQ%3D%3D?line=5'>6</a>\u001b[0m }\n\u001b[1;32m----> <a href='vscode-notebook-cell:/c%3A/Users/caioa/DataJam/gee-indexes/climatology-interactive-maps.ipynb#W4sZmlsZQ%3D%3D?line=8'>9</a>\u001b[0m call_split_map(Region)\n",
      "\u001b[1;32mc:\\Users\\caioa\\DataJam\\gee-indexes\\climatology-interactive-maps.ipynb Cell 5\u001b[0m line \u001b[0;36m1\n\u001b[0;32m     <a href='vscode-notebook-cell:/c%3A/Users/caioa/DataJam/gee-indexes/climatology-interactive-maps.ipynb#W4sZmlsZQ%3D%3D?line=13'>14</a>\u001b[0m period \u001b[39m=\u001b[39m ee\u001b[39m.\u001b[39mDateRange(date_start, date_end)\n\u001b[0;32m     <a href='vscode-notebook-cell:/c%3A/Users/caioa/DataJam/gee-indexes/climatology-interactive-maps.ipynb#W4sZmlsZQ%3D%3D?line=14'>15</a>\u001b[0m \u001b[39m#last_year = ee.DateRange(old_start, old_end)\u001b[39;00m\n\u001b[1;32m---> <a href='vscode-notebook-cell:/c%3A/Users/caioa/DataJam/gee-indexes/climatology-interactive-maps.ipynb#W4sZmlsZQ%3D%3D?line=15'>16</a>\u001b[0m month_filter \u001b[39m=\u001b[39m ee\u001b[39m.\u001b[39mFilter\u001b[39m.\u001b[39mcalendarRange((period\u001b[39m.\u001b[39;49mstart())\u001b[39m.\u001b[39;49mgetInfo(\u001b[39m'\u001b[39;49m\u001b[39mmonth\u001b[39;49m\u001b[39m'\u001b[39;49m), \u001b[39m'\u001b[39m\u001b[39mmonth\u001b[39m\u001b[39m'\u001b[39m)\n\u001b[0;32m     <a href='vscode-notebook-cell:/c%3A/Users/caioa/DataJam/gee-indexes/climatology-interactive-maps.ipynb#W4sZmlsZQ%3D%3D?line=17'>18</a>\u001b[0m \u001b[39m# Calculate the indexes\u001b[39;00m\n\u001b[0;32m     <a href='vscode-notebook-cell:/c%3A/Users/caioa/DataJam/gee-indexes/climatology-interactive-maps.ipynb#W4sZmlsZQ%3D%3D?line=18'>19</a>\u001b[0m indexes \u001b[39m=\u001b[39m goes_collection\u001b[39m.\u001b[39mfilterDate(period)\u001b[39m.\u001b[39mselect(bands)\u001b[39m.\u001b[39mmap(applyScaleandOffset)\u001b[39m.\u001b[39mmap(calculate_ndvi)\u001b[39m.\u001b[39mmap(calculate_ndwi)\u001b[39m.\u001b[39mreduce(ee\u001b[39m.\u001b[39mReducer\u001b[39m.\u001b[39mmedian())\u001b[39m.\u001b[39mclip(roi)\n",
      "\u001b[1;31mTypeError\u001b[0m: ComputedObject.getInfo() takes 1 positional argument but 2 were given"
     ]
    }
   ],
   "source": [
    "Region = {\n",
    "    'left' : -102.84,\n",
    "    'bottom' : 37.25,\n",
    "    'right' : -96.91,\n",
    "    'top' : 42.27\n",
    "}\n",
    "\n",
    "\n",
    "call_split_map(Region)"
   ]
  }
 ],
 "metadata": {
  "kernelspec": {
   "display_name": "datajam-env",
   "language": "python",
   "name": "python3"
  },
  "language_info": {
   "codemirror_mode": {
    "name": "ipython",
    "version": 3
   },
   "file_extension": ".py",
   "mimetype": "text/x-python",
   "name": "python",
   "nbconvert_exporter": "python",
   "pygments_lexer": "ipython3",
   "version": "3.11.0"
  }
 },
 "nbformat": 4,
 "nbformat_minor": 2
}
