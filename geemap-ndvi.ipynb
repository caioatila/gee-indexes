{
 "cells": [
  {
   "cell_type": "markdown",
   "metadata": {},
   "source": [
    "# Interactive NDVI"
   ]
  },
  {
   "cell_type": "code",
   "execution_count": 2,
   "metadata": {},
   "outputs": [
    {
     "data": {
      "text/html": [
       "\n",
       "            <style>\n",
       "                .geemap-dark {\n",
       "                    --jp-widgets-color: white;\n",
       "                    --jp-widgets-label-color: white;\n",
       "                    --jp-ui-font-color1: white;\n",
       "                    --jp-layout-color2: #454545;\n",
       "                    background-color: #383838;\n",
       "                }\n",
       "                    \n",
       "                .geemap-dark .jupyter-button {\n",
       "                    --jp-layout-color3: #383838;\n",
       "                }\n",
       "                \n",
       "                .geemap-colab {\n",
       "                    background-color: var(--colab-primary-surface-color, white);\n",
       "                }\n",
       "                    \n",
       "                .geemap-colab .jupyter-button {\n",
       "                    --jp-layout-color3: var(--colab-primary-surface-color, white);\n",
       "                }\n",
       "            </style>\n",
       "            "
      ],
      "text/plain": [
       "<IPython.core.display.HTML object>"
      ]
     },
     "metadata": {},
     "output_type": "display_data"
    }
   ],
   "source": [
    "import datetime\n",
    "import geemap\n",
    "import ee\n",
    "from astral import LocationInfo\n",
    "from astral.sun import sun\n",
    "\n",
    "# Band aliases.\n",
    "BLUE = 'CMI_C01'\n",
    "RED = 'CMI_C02'\n",
    "VEGGIE = 'CMI_C03'\n",
    "\n",
    "bands = [BLUE, RED, VEGGIE]\n",
    "\n",
    "goes_collection = ee.ImageCollection('NOAA/GOES/16/MCMIPC') \n",
    "\n",
    "def set_coordinates(left, bottom, right, top):\n",
    "    return ee.Geometry.Bbox(left, bottom, right, top)\n",
    "\n",
    "\n",
    "def applyScaleandOffset(image):\n",
    "    \n",
    "    band_list = image.select('CMI_C..').bandNames()\n",
    "\n",
    "    scales = (bandlist.map(lambda name: ee.String(name).cat('_scale'))).map(lambda band: image.getNumber(band))\n",
    "    offsets = (bandlist.map(lambda name: ee.String(name).cat('_offset'))).map(lambda band: image.getNumber(band))\n",
    "\n",
    "    scaled = image.select(band_list).multiply(scales).add(offsets).rename(band_list)\n",
    "\n",
    "    return image.addBands(srcImg = scaled, overwrite = True)\n",
    "\n",
    "\n",
    "def get_daytime(lat, lon):\n",
    "\n",
    "    loc = LocationInfo(latitude=lat, longitude=lon)\n",
    "    s = sun(loc.observer, date=datetime.date.today())\n"
   ]
  },
  {
   "cell_type": "code",
   "execution_count": null,
   "metadata": {},
   "outputs": [],
   "source": [
    "roi = set_coordinates(-102.84, 37.25, -96.91, 42.27)\n",
    "\n",
    "\n",
    "\n",
    "# Filter the GOES collection to a specific time range.\n",
    "yesterday = ee.Date.now().advance(-1, 'day')"
   ]
  },
  {
   "cell_type": "code",
   "execution_count": null,
   "metadata": {},
   "outputs": [],
   "source": [
    "filtered = "
   ]
  },
  {
   "cell_type": "code",
   "execution_count": null,
   "metadata": {},
   "outputs": [],
   "source": [
    "\n",
    "m = geemap.Map()\n",
    "m"
   ]
  }
 ],
 "metadata": {
  "kernelspec": {
   "display_name": "datajam-env",
   "language": "python",
   "name": "python3"
  },
  "language_info": {
   "codemirror_mode": {
    "name": "ipython",
    "version": 3
   },
   "file_extension": ".py",
   "mimetype": "text/x-python",
   "name": "python",
   "nbconvert_exporter": "python",
   "pygments_lexer": "ipython3",
   "version": "3.11.0"
  }
 },
 "nbformat": 4,
 "nbformat_minor": 2
}
