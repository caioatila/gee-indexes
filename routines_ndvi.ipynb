{
 "cells": [
  {
   "cell_type": "markdown",
   "metadata": {},
   "source": [
    "# Interactive NDVI"
   ]
  },
  {
   "cell_type": "code",
   "execution_count": 11,
   "metadata": {},
   "outputs": [
    {
     "data": {
      "text/html": [
       "\n",
       "            <style>\n",
       "                .geemap-dark {\n",
       "                    --jp-widgets-color: white;\n",
       "                    --jp-widgets-label-color: white;\n",
       "                    --jp-ui-font-color1: white;\n",
       "                    --jp-layout-color2: #454545;\n",
       "                    background-color: #383838;\n",
       "                }\n",
       "                    \n",
       "                .geemap-dark .jupyter-button {\n",
       "                    --jp-layout-color3: #383838;\n",
       "                }\n",
       "                \n",
       "                .geemap-colab {\n",
       "                    background-color: var(--colab-primary-surface-color, white);\n",
       "                }\n",
       "                    \n",
       "                .geemap-colab .jupyter-button {\n",
       "                    --jp-layout-color3: var(--colab-primary-surface-color, white);\n",
       "                }\n",
       "            </style>\n",
       "            "
      ],
      "text/plain": [
       "<IPython.core.display.HTML object>"
      ]
     },
     "metadata": {},
     "output_type": "display_data"
    }
   ],
   "source": [
    "import datetime\n",
    "import geemap\n",
    "import ee\n",
    "from astral import LocationInfo\n",
    "from astral.sun import sun\n",
    "\n",
    "ee.Initialize()\n",
    "bands = ['CMI_C01', 'CMI_C02', 'CMI_C03']\n",
    "\n",
    "\n",
    "def set_coordinates(left, bottom, right, top):\n",
    "    return ee.Geometry.BBox(left, bottom, right, top)\n",
    "\n",
    "\n",
    "def applyScaleandOffset(image):\n",
    "    \n",
    "    band_list = image.select('CMI_C..').bandNames()\n",
    "\n",
    "    scales = (band_list.map(lambda name: ee.String(name).cat('_scale'))).map(lambda band: image.getNumber(band))\n",
    "    offsets = (band_list.map(lambda name: ee.String(name).cat('_offset'))).map(lambda band: image.getNumber(band))\n",
    "\n",
    "    scaled = image.select('CMI_C..').multiply(ee.Image.constant(scales)).add(ee.Image.constant(offsets))\n",
    "\n",
    "    return image.addBands(srcImg = scaled, overwrite = True)\n",
    "\n",
    "\n",
    "def get_daytime(lat, lon):\n",
    "\n",
    "    loc = LocationInfo(latitude=lat, longitude=lon)\n",
    "    s = sun(loc.observer, date=datetime.date.today() - datetime.timedelta(days=1))\n",
    "    \n",
    "    if s['sunset'] <= s['sunrise']:\n",
    "        s['sunset'] = s['sunset'] + datetime.timedelta(days=1)\n",
    "\n",
    "    return (s['sunrise'].strftime(format=\"%Y-%m-%dT%H:%M:00\"), s['sunset'].strftime(format=\"%Y-%m-%dT%H:%M:00\"))\n"
   ]
  },
  {
   "cell_type": "code",
   "execution_count": 12,
   "metadata": {},
   "outputs": [
    {
     "data": {
      "text/html": [
       "\n",
       "            <style>\n",
       "                .geemap-dark {\n",
       "                    --jp-widgets-color: white;\n",
       "                    --jp-widgets-label-color: white;\n",
       "                    --jp-ui-font-color1: white;\n",
       "                    --jp-layout-color2: #454545;\n",
       "                    background-color: #383838;\n",
       "                }\n",
       "                    \n",
       "                .geemap-dark .jupyter-button {\n",
       "                    --jp-layout-color3: #383838;\n",
       "                }\n",
       "                \n",
       "                .geemap-colab {\n",
       "                    background-color: var(--colab-primary-surface-color, white);\n",
       "                }\n",
       "                    \n",
       "                .geemap-colab .jupyter-button {\n",
       "                    --jp-layout-color3: var(--colab-primary-surface-color, white);\n",
       "                }\n",
       "            </style>\n",
       "            "
      ],
      "text/plain": [
       "<IPython.core.display.HTML object>"
      ]
     },
     "metadata": {},
     "output_type": "display_data"
    }
   ],
   "source": [
    "def calculate_ndvi(image):\n",
    "    ndvi = image.normalizedDifference([\"CMI_C03\", \"CMI_C02\"]).rename('NDVI')\n",
    "    return image.addBands(ndvi)\n",
    "\n",
    "def calculate_ndwi(image):\n",
    "\n",
    "    nir = image.select(\"CMI_C03\")\n",
    "    red = image.select(\"CMI_C02\")\n",
    "    blue = image.select(\"CMI_C01\")\n",
    "\n",
    "    green = red.multiply(0.45).add(nir.multiply(0.1)).add(blue.multiply(0.45))\n",
    "    ndwi = green.subtract(nir).divide(green.add(nir)).rename('NDWI')\n",
    "\n",
    "    return image.addBands(ndwi)"
   ]
  },
  {
   "cell_type": "code",
   "execution_count": 13,
   "metadata": {},
   "outputs": [
    {
     "data": {
      "text/html": [
       "\n",
       "            <style>\n",
       "                .geemap-dark {\n",
       "                    --jp-widgets-color: white;\n",
       "                    --jp-widgets-label-color: white;\n",
       "                    --jp-ui-font-color1: white;\n",
       "                    --jp-layout-color2: #454545;\n",
       "                    background-color: #383838;\n",
       "                }\n",
       "                    \n",
       "                .geemap-dark .jupyter-button {\n",
       "                    --jp-layout-color3: #383838;\n",
       "                }\n",
       "                \n",
       "                .geemap-colab {\n",
       "                    background-color: var(--colab-primary-surface-color, white);\n",
       "                }\n",
       "                    \n",
       "                .geemap-colab .jupyter-button {\n",
       "                    --jp-layout-color3: var(--colab-primary-surface-color, white);\n",
       "                }\n",
       "            </style>\n",
       "            "
      ],
      "text/plain": [
       "<IPython.core.display.HTML object>"
      ]
     },
     "metadata": {},
     "output_type": "display_data"
    }
   ],
   "source": [
    "def call_single_map(lat, lon, collection_name = 'NOAA/GOES/16/MCMIPC', bands=bands, radius=40000):\n",
    "\n",
    "    goes_collection = ee.ImageCollection(collection_name)\n",
    "\n",
    "    # Set the location of the ROI. USER INPUT REQUIRED.\n",
    "    #roi = set_coordinates(coords['left'], coords['bottom'], coords['right'], coords['top'])\n",
    "    roi = ee.Geometry.Point([lon, lat]).buffer(distance=radius)\n",
    "    \n",
    "    # Get the image collection for the given time period and location.\n",
    "    date_start, date_end = get_daytime(lat, lon) #UPPER LEFT CORNER (smallest day duration)\n",
    "    period = ee.DateRange(date_start, date_end)\n",
    "\n",
    "    # Calculate the indexes\n",
    "    #indexes = goes_collection.filterDate(period).select(bands).map(applyScaleandOffset).map(calculate_ndvi).map(calculate_ndwi).reduce(ee.Reducer.median()).clip(roi)\n",
    "    image_file = goes_collection.filterDate(period).select(bands).map(applyScaleandOffset).map(calculate_ndvi).reduce(ee.Reducer.median())\n",
    "    indexes = image_file.clip(roi)\n",
    "\n",
    "    # Split the map\n",
    "    # Add the image to the map.\n",
    "    ndviParams = {'bands': ['NDVI_median'],\n",
    "                    'min': 0,\n",
    "                    'max': 1,\n",
    "                    'palette': [\"#8f2723\", \"#8f2723\", \"#8f2723\", \"#8f2723\", \"#af201b\", \"#af201b\", \"#af201b\", \"#af201b\", \"#ce4a2e\", \"#ce4a2e\", \"#ce4a2e\", \"#ce4a2e\", \n",
    "              \"#df744a\", \"#df744a\", \"#df744a\", \"#df744a\", \"#f0a875\", \"#f0a875\", \"#f0a875\", \"#f0a875\", \"#fad398\", \"#fad398\", \"#fad398\", \"#fad398\",\n",
    "              \"#fff8ba\",\n",
    "              \"#d8eda0\", \"#d8eda0\", \"#d8eda0\", \"#d8eda0\", \"#bddd8a\", \"#bddd8a\", \"#bddd8a\", \"#bddd8a\", \"#93c669\", \"#93c669\", \"#93c669\", \"#93c669\", \n",
    "              \"#5da73e\", \"#5da73e\", \"#5da73e\", \"#5da73e\", \"#3c9427\", \"#3c9427\", \"#3c9427\", \"#3c9427\", \"#235117\", \"#235117\", \"#235117\", \"#235117\"]}\n",
    "                    #'palette': ['blue', 'white', 'green']}\n",
    "\n",
    "    colorbar_params = {\n",
    "            'width': 4.0,\n",
    "        'height': 0.3,\n",
    "        'vmin': 0,\n",
    "        'vmax': 1,\n",
    "        'palette': [\"#8f2723\", \"#8f2723\", \"#8f2723\", \"#8f2723\", \"#af201b\", \"#af201b\", \"#af201b\", \"#af201b\", \"#ce4a2e\", \"#ce4a2e\", \"#ce4a2e\", \"#ce4a2e\", \n",
    "              \"#df744a\", \"#df744a\", \"#df744a\", \"#df744a\", \"#f0a875\", \"#f0a875\", \"#f0a875\", \"#f0a875\", \"#fad398\", \"#fad398\", \"#fad398\", \"#fad398\",\n",
    "              \"#fff8ba\",\n",
    "              \"#d8eda0\", \"#d8eda0\", \"#d8eda0\", \"#d8eda0\", \"#bddd8a\", \"#bddd8a\", \"#bddd8a\", \"#bddd8a\", \"#93c669\", \"#93c669\", \"#93c669\", \"#93c669\", \n",
    "              \"#5da73e\", \"#5da73e\", \"#5da73e\", \"#5da73e\", \"#3c9427\", \"#3c9427\", \"#3c9427\", \"#3c9427\", \"#235117\", \"#235117\", \"#235117\", \"#235117\"],#['blue', 'white', 'green'],\n",
    "        'label': 'NDVI',\n",
    "        'orientation': 'horizontal',\n",
    "        'transparent': False,\n",
    "    }\n",
    "\n",
    "    \n",
    "    ndwiParams = {'bands': ['NDWI_median'],\n",
    "                'min': 0.0,\n",
    "                'max': 1,\n",
    "                'palette': ['0000ff', '00ffff', 'ffff00', 'ff0000', 'ffffff']}\n",
    "\n",
    "    colors = ndviParams['palette']\n",
    "    vmin = ndviParams['min']\n",
    "    vmax = ndviParams['max']\n",
    "\n",
    "    colors2 = ndwiParams['palette']\n",
    "    vmin2 = ndwiParams['min']\n",
    "    vmax2 = ndwiParams['max']\n",
    "\n",
    "\n",
    "    m = geemap.Map(toolbar_ctrl=True, layer_ctrl=True)\n",
    "    m.setCenter(lon, lat, 10)\n",
    "\n",
    "    m.addLayer(indexes, ndviParams, 'NDVI')\n",
    "    m.add_colorbar_branca(colors=colors, vmin=vmin, vmax=vmax, layer_name=\"NDVI\")\n",
    "    geemap.save_colorbar('colorbar_red2green.png', **colorbar_params)\n",
    "    #m.addLayer(indexes, ndwiParams, 'NDWI')\n",
    "    #m.add_colorbar_branca(colors=colors2, vmin=vmin2, vmax=vmax2, layer_name=\"NDWI\")\n",
    "\n",
    "    #m.addLayerControl()\n",
    "\n",
    "    mean_ndvi = image_file.select('NDVI_median').reduceRegion(reducer=ee.Reducer.mean(), geometry=roi, scale=2000).getInfo()\n",
    "\n",
    "    return mean_ndvi['NDVI_median'], m"
   ]
  },
  {
   "cell_type": "code",
   "execution_count": 14,
   "metadata": {},
   "outputs": [
    {
     "data": {
      "text/html": [
       "\n",
       "            <style>\n",
       "                .geemap-dark {\n",
       "                    --jp-widgets-color: white;\n",
       "                    --jp-widgets-label-color: white;\n",
       "                    --jp-ui-font-color1: white;\n",
       "                    --jp-layout-color2: #454545;\n",
       "                    background-color: #383838;\n",
       "                }\n",
       "                    \n",
       "                .geemap-dark .jupyter-button {\n",
       "                    --jp-layout-color3: #383838;\n",
       "                }\n",
       "                \n",
       "                .geemap-colab {\n",
       "                    background-color: var(--colab-primary-surface-color, white);\n",
       "                }\n",
       "                    \n",
       "                .geemap-colab .jupyter-button {\n",
       "                    --jp-layout-color3: var(--colab-primary-surface-color, white);\n",
       "                }\n",
       "            </style>\n",
       "            "
      ],
      "text/plain": [
       "<IPython.core.display.HTML object>"
      ]
     },
     "metadata": {},
     "output_type": "display_data"
    },
    {
     "data": {
      "image/png": "[encoded data removed]",
      "text/plain": [
       "<Figure size 400x30 with 1 Axes>"
      ]
     },
     "metadata": {},
     "output_type": "display_data"
    }
   ],
   "source": [
    "lat = 37.25\n",
    "lon = -102.84\n",
    "\n",
    "\n",
    "mean_val, map2 = call_single_map(lat, lon)\n",
    "#map2.to_html(filename=\"html_NDVI.html\", title='My Map', width='100%', height='880px')"
   ]
  },
  {
   "cell_type": "code",
   "execution_count": 15,
   "metadata": {},
   "outputs": [
    {
     "data": {
      "text/html": [
       "\n",
       "            <style>\n",
       "                .geemap-dark {\n",
       "                    --jp-widgets-color: white;\n",
       "                    --jp-widgets-label-color: white;\n",
       "                    --jp-ui-font-color1: white;\n",
       "                    --jp-layout-color2: #454545;\n",
       "                    background-color: #383838;\n",
       "                }\n",
       "                    \n",
       "                .geemap-dark .jupyter-button {\n",
       "                    --jp-layout-color3: #383838;\n",
       "                }\n",
       "                \n",
       "                .geemap-colab {\n",
       "                    background-color: var(--colab-primary-surface-color, white);\n",
       "                }\n",
       "                    \n",
       "                .geemap-colab .jupyter-button {\n",
       "                    --jp-layout-color3: var(--colab-primary-surface-color, white);\n",
       "                }\n",
       "            </style>\n",
       "            "
      ],
      "text/plain": [
       "<IPython.core.display.HTML object>"
      ]
     },
     "metadata": {},
     "output_type": "display_data"
    },
    {
     "data": {
      "text/plain": [
       "'0.28'"
      ]
     },
     "execution_count": 15,
     "metadata": {},
     "output_type": "execute_result"
    }
   ],
   "source": [
    "format(mean_val, '.2f')"
   ]
  },
  {
   "cell_type": "code",
   "execution_count": 16,
   "metadata": {},
   "outputs": [
    {
     "data": {
      "text/html": [
       "\n",
       "            <style>\n",
       "                .geemap-dark {\n",
       "                    --jp-widgets-color: white;\n",
       "                    --jp-widgets-label-color: white;\n",
       "                    --jp-ui-font-color1: white;\n",
       "                    --jp-layout-color2: #454545;\n",
       "                    background-color: #383838;\n",
       "                }\n",
       "                    \n",
       "                .geemap-dark .jupyter-button {\n",
       "                    --jp-layout-color3: #383838;\n",
       "                }\n",
       "                \n",
       "                .geemap-colab {\n",
       "                    background-color: var(--colab-primary-surface-color, white);\n",
       "                }\n",
       "                    \n",
       "                .geemap-colab .jupyter-button {\n",
       "                    --jp-layout-color3: var(--colab-primary-surface-color, white);\n",
       "                }\n",
       "            </style>\n",
       "            "
      ],
      "text/plain": [
       "<IPython.core.display.HTML object>"
      ]
     },
     "metadata": {},
     "output_type": "display_data"
    },
    {
     "data": {
      "application/vnd.jupyter.widget-view+json": {
       "model_id": "79d6cd4bdc5d4c6a9af0ded3914bc0bf",
       "version_major": 2,
       "version_minor": 0
      },
      "text/plain": [
       "Map(center=[37.25, -102.84], controls=(WidgetControl(options=['position', 'transparent_bg'], widget=SearchData…"
      ]
     },
     "execution_count": 16,
     "metadata": {},
     "output_type": "execute_result"
    }
   ],
   "source": [
    "map2"
   ]
  },
  {
   "cell_type": "code",
   "execution_count": null,
   "metadata": {},
   "outputs": [],
   "source": []
  }
 ],
 "metadata": {
  "kernelspec": {
   "display_name": "datajam-env",
   "language": "python",
   "name": "python3"
  },
  "language_info": {
   "codemirror_mode": {
    "name": "ipython",
    "version": 3
   },
   "file_extension": ".py",
   "mimetype": "text/x-python",
   "name": "python",
   "nbconvert_exporter": "python",
   "pygments_lexer": "ipython3",
   "version": "3.11.0"
  }
 },
 "nbformat": 4,
 "nbformat_minor": 2
}
