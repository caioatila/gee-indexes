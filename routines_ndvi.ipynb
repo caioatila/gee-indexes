{
 "cells": [
  {
   "cell_type": "markdown",
   "metadata": {},
   "source": [
    "# Interactive NDVI"
   ]
  },
  {
   "cell_type": "code",
   "execution_count": 1,
   "metadata": {},
   "outputs": [],
   "source": [
    "import datetime\n",
    "import geemap\n",
    "import ee\n",
    "from astral import LocationInfo\n",
    "from astral.sun import sun\n",
    "\n",
    "ee.Initialize()\n",
    "bands = ['CMI_C01', 'CMI_C02', 'CMI_C03']\n",
    "\n",
    "\n",
    "def set_coordinates(left, bottom, right, top):\n",
    "    return ee.Geometry.BBox(left, bottom, right, top)\n",
    "\n",
    "\n",
    "def applyScaleandOffset(image):\n",
    "    \n",
    "    band_list = image.select('CMI_C..').bandNames()\n",
    "\n",
    "    scales = (band_list.map(lambda name: ee.String(name).cat('_scale'))).map(lambda band: image.getNumber(band))\n",
    "    offsets = (band_list.map(lambda name: ee.String(name).cat('_offset'))).map(lambda band: image.getNumber(band))\n",
    "\n",
    "    scaled = image.select('CMI_C..').multiply(ee.Image.constant(scales)).add(ee.Image.constant(offsets))\n",
    "\n",
    "    return image.addBands(srcImg = scaled, overwrite = True)\n",
    "\n",
    "\n",
    "def get_daytime(lat, lon):\n",
    "\n",
    "    loc = LocationInfo(latitude=lat, longitude=lon)\n",
    "    s = sun(loc.observer, date=datetime.date.today() - datetime.timedelta(days=1))\n",
    "    \n",
    "    if s['sunset'] <= s['sunrise']:\n",
    "        s['sunset'] = s['sunset'] + datetime.timedelta(days=1)\n",
    "\n",
    "    return (s['sunrise'].strftime(format=\"%Y-%m-%dT%H:%M:00\"), s['sunset'].strftime(format=\"%Y-%m-%dT%H:%M:00\"))\n"
   ]
  },
  {
   "cell_type": "code",
   "execution_count": 2,
   "metadata": {},
   "outputs": [
    {
     "data": {
      "text/html": [
       "\n",
       "            <style>\n",
       "                .geemap-dark {\n",
       "                    --jp-widgets-color: white;\n",
       "                    --jp-widgets-label-color: white;\n",
       "                    --jp-ui-font-color1: white;\n",
       "                    --jp-layout-color2: #454545;\n",
       "                    background-color: #383838;\n",
       "                }\n",
       "                    \n",
       "                .geemap-dark .jupyter-button {\n",
       "                    --jp-layout-color3: #383838;\n",
       "                }\n",
       "                \n",
       "                .geemap-colab {\n",
       "                    background-color: var(--colab-primary-surface-color, white);\n",
       "                }\n",
       "                    \n",
       "                .geemap-colab .jupyter-button {\n",
       "                    --jp-layout-color3: var(--colab-primary-surface-color, white);\n",
       "                }\n",
       "            </style>\n",
       "            "
      ],
      "text/plain": [
       "<IPython.core.display.HTML object>"
      ]
     },
     "metadata": {},
     "output_type": "display_data"
    }
   ],
   "source": [
    "def calculate_ndvi(image):\n",
    "    ndvi = image.normalizedDifference([\"CMI_C03\", \"CMI_C02\"]).rename('NDVI')\n",
    "    return image.addBands(ndvi)\n",
    "\n",
    "def calculate_ndwi(image):\n",
    "\n",
    "    nir = image.select(\"CMI_C03\")\n",
    "    red = image.select(\"CMI_C02\")\n",
    "    blue = image.select(\"CMI_C01\")\n",
    "\n",
    "    green = red.multiply(0.45).add(nir.multiply(0.1)).add(blue.multiply(0.45))\n",
    "    ndwi = green.subtract(nir).divide(green.add(nir)).rename('NDWI')\n",
    "\n",
    "    return image.addBands(ndwi)"
   ]
  },
  {
   "cell_type": "code",
   "execution_count": 3,
   "metadata": {},
   "outputs": [
    {
     "data": {
      "text/html": [
       "\n",
       "            <style>\n",
       "                .geemap-dark {\n",
       "                    --jp-widgets-color: white;\n",
       "                    --jp-widgets-label-color: white;\n",
       "                    --jp-ui-font-color1: white;\n",
       "                    --jp-layout-color2: #454545;\n",
       "                    background-color: #383838;\n",
       "                }\n",
       "                    \n",
       "                .geemap-dark .jupyter-button {\n",
       "                    --jp-layout-color3: #383838;\n",
       "                }\n",
       "                \n",
       "                .geemap-colab {\n",
       "                    background-color: var(--colab-primary-surface-color, white);\n",
       "                }\n",
       "                    \n",
       "                .geemap-colab .jupyter-button {\n",
       "                    --jp-layout-color3: var(--colab-primary-surface-color, white);\n",
       "                }\n",
       "            </style>\n",
       "            "
      ],
      "text/plain": [
       "<IPython.core.display.HTML object>"
      ]
     },
     "metadata": {},
     "output_type": "display_data"
    }
   ],
   "source": [
    "def call_single_map(lat, lon, collection_name = 'NOAA/GOES/16/MCMIPC', bands=bands, radius=40000):\n",
    "\n",
    "    goes_collection = ee.ImageCollection(collection_name)\n",
    "\n",
    "    # Set the location of the ROI. USER INPUT REQUIRED.\n",
    "    #roi = set_coordinates(coords['left'], coords['bottom'], coords['right'], coords['top'])\n",
    "    roi = ee.Geometry.Point([lon, lat]).buffer(distance=radius)\n",
    "    \n",
    "    # Get the image collection for the given time period and location.\n",
    "    date_start, date_end = get_daytime(lat, lon) #UPPER LEFT CORNER (smallest day duration)\n",
    "    period = ee.DateRange(date_start, date_end)\n",
    "\n",
    "    # Calculate the indexes\n",
    "    #indexes = goes_collection.filterDate(period).select(bands).map(applyScaleandOffset).map(calculate_ndvi).map(calculate_ndwi).reduce(ee.Reducer.median()).clip(roi)\n",
    "    indexes = goes_collection.filterDate(period).select(bands).map(applyScaleandOffset).map(calculate_ndvi).reduce(ee.Reducer.median()).clip(roi)\n",
    "\n",
    "    # Split the map\n",
    "    # Add the image to the map.\n",
    "    ndviParams = {'bands': ['NDVI_median'],\n",
    "                    'min': -1,\n",
    "                    'max': 1,\n",
    "                    'palette': ['blue', 'white', 'green']}\n",
    "\n",
    "    colorbar_params = {\n",
    "            'width': 4.0,\n",
    "        'height': 0.3,\n",
    "        'vmin': -1,\n",
    "        'vmax': 1,\n",
    "        'cmap': ['blue', 'white', 'green'],\n",
    "        'label': 'NDVI',\n",
    "        'orientation': 'horizontal',\n",
    "        'transparent': False,\n",
    "    }\n",
    "\n",
    "    \n",
    "    ndwiParams = {'bands': ['NDWI_median'],\n",
    "                'min': 0.0,\n",
    "                'max': 1,\n",
    "                'palette': ['0000ff', '00ffff', 'ffff00', 'ff0000', 'ffffff']}\n",
    "\n",
    "    colors = ndviParams['palette']\n",
    "    vmin = ndviParams['min']\n",
    "    vmax = ndviParams['max']\n",
    "\n",
    "    colors2 = ndwiParams['palette']\n",
    "    vmin2 = ndwiParams['min']\n",
    "    vmax2 = ndwiParams['max']\n",
    "\n",
    "\n",
    "    m = geemap.Map(toolbar_ctrl=True, layer_ctrl=True)\n",
    "    m.setCenter(lon, lat, 10)\n",
    "\n",
    "    m.addLayer(indexes, ndviParams, 'NDVI')\n",
    "    m.add_colorbar_branca(colors=colors, vmin=vmin, vmax=vmax, layer_name=\"NDVI\")\n",
    "    geemap.save_colorbar('colorbar.png', **ndviParams)\n",
    "    #m.addLayer(indexes, ndwiParams, 'NDWI')\n",
    "    #m.add_colorbar_branca(colors=colors2, vmin=vmin2, vmax=vmax2, layer_name=\"NDWI\")\n",
    "\n",
    "    #m.addLayerControl()\n",
    "\n",
    "    return m"
   ]
  },
  {
   "cell_type": "code",
   "execution_count": 4,
   "metadata": {},
   "outputs": [
    {
     "data": {
      "text/html": [
       "\n",
       "            <style>\n",
       "                .geemap-dark {\n",
       "                    --jp-widgets-color: white;\n",
       "                    --jp-widgets-label-color: white;\n",
       "                    --jp-ui-font-color1: white;\n",
       "                    --jp-layout-color2: #454545;\n",
       "                    background-color: #383838;\n",
       "                }\n",
       "                    \n",
       "                .geemap-dark .jupyter-button {\n",
       "                    --jp-layout-color3: #383838;\n",
       "                }\n",
       "                \n",
       "                .geemap-colab {\n",
       "                    background-color: var(--colab-primary-surface-color, white);\n",
       "                }\n",
       "                    \n",
       "                .geemap-colab .jupyter-button {\n",
       "                    --jp-layout-color3: var(--colab-primary-surface-color, white);\n",
       "                }\n",
       "            </style>\n",
       "            "
      ],
      "text/plain": [
       "<IPython.core.display.HTML object>"
      ]
     },
     "metadata": {},
     "output_type": "display_data"
    },
    {
     "ename": "TypeError",
     "evalue": "Colorbar.__init__() got an unexpected keyword argument 'bands'",
     "output_type": "error",
     "traceback": [
      "\u001b[1;31m---------------------------------------------------------------------------\u001b[0m",
      "\u001b[1;31mTypeError\u001b[0m                                 Traceback (most recent call last)",
      "\u001b[1;32m~\\AppData\\Local\\Temp\\ipykernel_10488\\3409921584.py\u001b[0m in \u001b[0;36m?\u001b[1;34m()\u001b[0m\n\u001b[0;32m      1\u001b[0m \u001b[0mlat\u001b[0m \u001b[1;33m=\u001b[0m \u001b[1;36m37.25\u001b[0m\u001b[1;33m\u001b[0m\u001b[1;33m\u001b[0m\u001b[0m\n\u001b[0;32m      2\u001b[0m \u001b[0mlon\u001b[0m \u001b[1;33m=\u001b[0m \u001b[1;33m-\u001b[0m\u001b[1;36m102.84\u001b[0m\u001b[1;33m\u001b[0m\u001b[1;33m\u001b[0m\u001b[0m\n\u001b[0;32m      3\u001b[0m \u001b[1;33m\u001b[0m\u001b[0m\n\u001b[0;32m      4\u001b[0m \u001b[1;33m\u001b[0m\u001b[0m\n\u001b[1;32m----> 5\u001b[1;33m \u001b[0mmap2\u001b[0m \u001b[1;33m=\u001b[0m \u001b[0mcall_single_map\u001b[0m\u001b[1;33m(\u001b[0m\u001b[0mlat\u001b[0m\u001b[1;33m,\u001b[0m \u001b[0mlon\u001b[0m\u001b[1;33m)\u001b[0m\u001b[1;33m\u001b[0m\u001b[1;33m\u001b[0m\u001b[0m\n\u001b[0m\u001b[0;32m      6\u001b[0m \u001b[0mmap2\u001b[0m\u001b[1;33m.\u001b[0m\u001b[0mto_html\u001b[0m\u001b[1;33m(\u001b[0m\u001b[0mfilename\u001b[0m\u001b[1;33m=\u001b[0m\u001b[1;34m\"html_NDVI.html\"\u001b[0m\u001b[1;33m,\u001b[0m \u001b[0mtitle\u001b[0m\u001b[1;33m=\u001b[0m\u001b[1;34m'My Map'\u001b[0m\u001b[1;33m,\u001b[0m \u001b[0mwidth\u001b[0m\u001b[1;33m=\u001b[0m\u001b[1;34m'100%'\u001b[0m\u001b[1;33m,\u001b[0m \u001b[0mheight\u001b[0m\u001b[1;33m=\u001b[0m\u001b[1;34m'880px'\u001b[0m\u001b[1;33m)\u001b[0m\u001b[1;33m\u001b[0m\u001b[1;33m\u001b[0m\u001b[0m\n",
      "\u001b[1;32m~\\AppData\\Local\\Temp\\ipykernel_10488\\1216687718.py\u001b[0m in \u001b[0;36m?\u001b[1;34m(lat, lon, collection_name, bands, radius)\u001b[0m\n\u001b[0;32m     40\u001b[0m     \u001b[0mm\u001b[0m\u001b[1;33m.\u001b[0m\u001b[0msetCenter\u001b[0m\u001b[1;33m(\u001b[0m\u001b[0mlon\u001b[0m\u001b[1;33m,\u001b[0m \u001b[0mlat\u001b[0m\u001b[1;33m,\u001b[0m \u001b[1;36m10\u001b[0m\u001b[1;33m)\u001b[0m\u001b[1;33m\u001b[0m\u001b[1;33m\u001b[0m\u001b[0m\n\u001b[0;32m     41\u001b[0m \u001b[1;33m\u001b[0m\u001b[0m\n\u001b[0;32m     42\u001b[0m     \u001b[0mm\u001b[0m\u001b[1;33m.\u001b[0m\u001b[0maddLayer\u001b[0m\u001b[1;33m(\u001b[0m\u001b[0mindexes\u001b[0m\u001b[1;33m,\u001b[0m \u001b[0mndviParams\u001b[0m\u001b[1;33m,\u001b[0m \u001b[1;34m'NDVI'\u001b[0m\u001b[1;33m)\u001b[0m\u001b[1;33m\u001b[0m\u001b[1;33m\u001b[0m\u001b[0m\n\u001b[0;32m     43\u001b[0m     \u001b[0mm\u001b[0m\u001b[1;33m.\u001b[0m\u001b[0madd_colorbar_branca\u001b[0m\u001b[1;33m(\u001b[0m\u001b[0mcolors\u001b[0m\u001b[1;33m=\u001b[0m\u001b[0mcolors\u001b[0m\u001b[1;33m,\u001b[0m \u001b[0mvmin\u001b[0m\u001b[1;33m=\u001b[0m\u001b[0mvmin\u001b[0m\u001b[1;33m,\u001b[0m \u001b[0mvmax\u001b[0m\u001b[1;33m=\u001b[0m\u001b[0mvmax\u001b[0m\u001b[1;33m,\u001b[0m \u001b[0mlayer_name\u001b[0m\u001b[1;33m=\u001b[0m\u001b[1;34m\"NDVI\"\u001b[0m\u001b[1;33m)\u001b[0m\u001b[1;33m\u001b[0m\u001b[1;33m\u001b[0m\u001b[0m\n\u001b[1;32m---> 44\u001b[1;33m     \u001b[0mgeemap\u001b[0m\u001b[1;33m.\u001b[0m\u001b[0msave_colorbar\u001b[0m\u001b[1;33m(\u001b[0m\u001b[1;34m'colorbar.png'\u001b[0m\u001b[1;33m,\u001b[0m \u001b[1;33m**\u001b[0m\u001b[0mndviParams\u001b[0m\u001b[1;33m)\u001b[0m\u001b[1;33m\u001b[0m\u001b[1;33m\u001b[0m\u001b[0m\n\u001b[0m\u001b[0;32m     45\u001b[0m     \u001b[1;31m#m.addLayer(indexes, ndwiParams, 'NDWI')\u001b[0m\u001b[1;33m\u001b[0m\u001b[1;33m\u001b[0m\u001b[0m\n\u001b[0;32m     46\u001b[0m     \u001b[1;31m#m.add_colorbar_branca(colors=colors2, vmin=vmin2, vmax=vmax2, layer_name=\"NDWI\")\u001b[0m\u001b[1;33m\u001b[0m\u001b[1;33m\u001b[0m\u001b[0m\n\u001b[0;32m     47\u001b[0m \u001b[1;33m\u001b[0m\u001b[0m\n",
      "\u001b[1;32mc:\\Users\\caioa\\mambaforge\\envs\\datajam-env\\Lib\\site-packages\\geemap\\common.py\u001b[0m in \u001b[0;36m?\u001b[1;34m(out_fig, width, height, vmin, vmax, palette, vis_params, cmap, discrete, label, label_size, label_weight, tick_size, bg_color, orientation, dpi, transparent, show_colorbar, **kwargs)\u001b[0m\n\u001b[0;32m   3844\u001b[0m             \u001b[1;34m'cmap keyword or \"palette\" key in vis_params must be provided.'\u001b[0m\u001b[1;33m\u001b[0m\u001b[1;33m\u001b[0m\u001b[0m\n\u001b[0;32m   3845\u001b[0m         )\n\u001b[0;32m   3846\u001b[0m \u001b[1;33m\u001b[0m\u001b[0m\n\u001b[0;32m   3847\u001b[0m     \u001b[0mfig\u001b[0m\u001b[1;33m,\u001b[0m \u001b[0max\u001b[0m \u001b[1;33m=\u001b[0m \u001b[0mplt\u001b[0m\u001b[1;33m.\u001b[0m\u001b[0msubplots\u001b[0m\u001b[1;33m(\u001b[0m\u001b[0mfigsize\u001b[0m\u001b[1;33m=\u001b[0m\u001b[1;33m(\u001b[0m\u001b[0mwidth\u001b[0m\u001b[1;33m,\u001b[0m \u001b[0mheight\u001b[0m\u001b[1;33m)\u001b[0m\u001b[1;33m)\u001b[0m\u001b[1;33m\u001b[0m\u001b[1;33m\u001b[0m\u001b[0m\n\u001b[1;32m-> 3848\u001b[1;33m     cb = mpl.colorbar.ColorbarBase(\n\u001b[0m\u001b[0;32m   3849\u001b[0m         \u001b[0max\u001b[0m\u001b[1;33m,\u001b[0m \u001b[0mnorm\u001b[0m\u001b[1;33m=\u001b[0m\u001b[0mnorm\u001b[0m\u001b[1;33m,\u001b[0m \u001b[0malpha\u001b[0m\u001b[1;33m=\u001b[0m\u001b[0malpha\u001b[0m\u001b[1;33m,\u001b[0m \u001b[0mcmap\u001b[0m\u001b[1;33m=\u001b[0m\u001b[0mcmap\u001b[0m\u001b[1;33m,\u001b[0m \u001b[0morientation\u001b[0m\u001b[1;33m=\u001b[0m\u001b[0morientation\u001b[0m\u001b[1;33m,\u001b[0m \u001b[1;33m**\u001b[0m\u001b[0mkwargs\u001b[0m\u001b[1;33m\u001b[0m\u001b[1;33m\u001b[0m\u001b[0m\n\u001b[0;32m   3850\u001b[0m     )\n\u001b[0;32m   3851\u001b[0m     \u001b[1;32mif\u001b[0m \u001b[0mlabel\u001b[0m \u001b[1;32mis\u001b[0m \u001b[1;32mnot\u001b[0m \u001b[1;32mNone\u001b[0m\u001b[1;33m:\u001b[0m\u001b[1;33m\u001b[0m\u001b[1;33m\u001b[0m\u001b[0m\n",
      "\u001b[1;31mTypeError\u001b[0m: Colorbar.__init__() got an unexpected keyword argument 'bands'"
     ]
    },
    {
     "data": {
      "image/png": "[encoded data removed]",
      "text/plain": [
       "<Figure size 400x30 with 1 Axes>"
      ]
     },
     "metadata": {},
     "output_type": "display_data"
    }
   ],
   "source": [
    "lat = 37.25\n",
    "lon = -102.84\n",
    "\n",
    "\n",
    "map2 = call_single_map(lat, lon)\n",
    "map2.to_html(filename=\"html_NDVI.html\", title='My Map', width='100%', height='880px')"
   ]
  },
  {
   "cell_type": "code",
   "execution_count": 25,
   "metadata": {},
   "outputs": [
    {
     "data": {
      "text/html": [
       "\n",
       "            <style>\n",
       "                .geemap-dark {\n",
       "                    --jp-widgets-color: white;\n",
       "                    --jp-widgets-label-color: white;\n",
       "                    --jp-ui-font-color1: white;\n",
       "                    --jp-layout-color2: #454545;\n",
       "                    background-color: #383838;\n",
       "                }\n",
       "                    \n",
       "                .geemap-dark .jupyter-button {\n",
       "                    --jp-layout-color3: #383838;\n",
       "                }\n",
       "                \n",
       "                .geemap-colab {\n",
       "                    background-color: var(--colab-primary-surface-color, white);\n",
       "                }\n",
       "                    \n",
       "                .geemap-colab .jupyter-button {\n",
       "                    --jp-layout-color3: var(--colab-primary-surface-color, white);\n",
       "                }\n",
       "            </style>\n",
       "            "
      ],
      "text/plain": [
       "<IPython.core.display.HTML object>"
      ]
     },
     "metadata": {},
     "output_type": "display_data"
    },
    {
     "data": {
      "application/vnd.jupyter.widget-view+json": {
       "model_id": "46c1b3a6367b43d88362efa04102c6d4",
       "version_major": 2,
       "version_minor": 0
      },
      "text/plain": [
       "Map(center=[37.25, -102.84], controls=(WidgetControl(options=['position', 'transparent_bg'], widget=SearchData…"
      ]
     },
     "execution_count": 25,
     "metadata": {},
     "output_type": "execute_result"
    }
   ],
   "source": [
    "map2"
   ]
  },
  {
   "cell_type": "code",
   "execution_count": null,
   "metadata": {},
   "outputs": [],
   "source": []
  }
 ],
 "metadata": {
  "kernelspec": {
   "display_name": "datajam-env",
   "language": "python",
   "name": "python3"
  },
  "language_info": {
   "codemirror_mode": {
    "name": "ipython",
    "version": 3
   },
   "file_extension": ".py",
   "mimetype": "text/x-python",
   "name": "python",
   "nbconvert_exporter": "python",
   "pygments_lexer": "ipython3",
   "version": "3.11.0"
  }
 },
 "nbformat": 4,
 "nbformat_minor": 2
}
